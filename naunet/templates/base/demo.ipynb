{
 "cells": [
  {
   "cell_type": "code",
   "execution_count": null,
   "metadata": {},
   "outputs": [],
   "source": [
    "import numpy as np\n",
    "import matplotlib.pyplot as plt\n",
    "import tomlkit\n",
    "\n",
    "from pathlib import Path\n",
    "\n",
    "plt.rcParams['figure.figsize'] = [8, 6]\n",
    "plt.rcParams['figure.dpi'] = 100 # 200 e.g. is really fine, but slower"
   ]
  },
  {
   "cell_type": "code",
   "execution_count": null,
   "metadata": {},
   "outputs": [],
   "source": [
    "with open(\"naunet_config.toml\") as config:\n",
    "    content = tomlkit.loads(config.read())\n",
    "\n",
    "summary = content[\"summary\"]\n",
    "species = summary[\"list_of_species\"]\n",
    "nspec = summary[\"num_of_species\"]\n",
    "\n",
    "bindata = np.fromfile(f\"build/test/evolution_singlegrid.bin\", dtype=\"float64\").reshape(-1, nspec+1)\n",
    "time = bindata[:, 0]\n",
    "\n",
    "spec = \"H2\"\n",
    "sidx = species.index(spec) + 1\n",
    "\n",
    "fig, ax = plt.subplots(facecolor=\"w\")\n",
    "\n",
    "ax.plot(time, bindata[:,sidx]);\n",
    "\n",
    "ax.set_xscale('log');\n",
    "ax.set_yscale('log');\n",
    "ax.set_xlabel('Time (yr)');\n",
    "ax.set_ylabel(f'[{spec}]');"
   ]
  },
  {
   "cell_type": "code",
   "execution_count": null,
   "metadata": {},
   "outputs": [],
   "source": [
    "elapsed = np.loadtxt(\"build/test/time_singlegrid.txt\")\n",
    "\n",
    "fig, ax = plt.subplots(facecolor=\"w\")\n",
    "\n",
    "ax.plot(np.arange(elapsed.size), elapsed);\n",
    "\n",
    "ax.set_yscale(\"log\");\n",
    "ax.set_xlabel(\"Step\");\n",
    "ax.set_ylabel(\"Elapsed Time (s)\");"
   ]
  }
 ],
 "metadata": {
  "language_info": {
   "name": "python"
  },
  "orig_nbformat": 4
 },
 "nbformat": 4,
 "nbformat_minor": 2
}
